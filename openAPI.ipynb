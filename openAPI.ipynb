{
  "nbformat": 4,
  "nbformat_minor": 0,
  "metadata": {
    "colab": {
      "provenance": [],
      "authorship_tag": "ABX9TyMti11QqQuQRxEmacTWfshC",
      "include_colab_link": true
    },
    "kernelspec": {
      "name": "python3",
      "display_name": "Python 3"
    },
    "language_info": {
      "name": "python"
    }
  },
  "cells": [
    {
      "cell_type": "markdown",
      "metadata": {
        "id": "view-in-github",
        "colab_type": "text"
      },
      "source": [
        "<a href=\"https://colab.research.google.com/github/dradra0905/openAPI/blob/master/openAPI.ipynb\" target=\"_parent\"><img src=\"https://colab.research.google.com/assets/colab-badge.svg\" alt=\"Open In Colab\"/></a>"
      ]
    },
    {
      "cell_type": "code",
      "source": [
        "import requests\n",
        "\n",
        "serviceKey = '자신의 서비스 키'\n",
        "numOfRows = '10'\n",
        "pageNo = '1'\n",
        "resultType = 'xml'\n",
        "\n",
        "url = 'http://apis.data.go.kr/1160100/service/GetMortLoanUndeAsseInfoService/getUndeAsseRedeInfo'\n",
        "params ={'serviceKey' : serviceKey, 'numOfRows' : numOfRows, 'pageNo' : pageNo, 'resultType':resultType}\n",
        "\n",
        "response = requests.get(url, params=params)\n",
        "print(response.text)\n"
      ],
      "metadata": {
        "id": "lK1zsvy6q4XI"
      },
      "execution_count": null,
      "outputs": []
    },
    {
      "cell_type": "code",
      "source": [
        "# xml 형태로 불러오고 xml로 저장할 때\n",
        "import xml.etree.ElementTree as ET\n",
        "\n",
        "root = ET.fromstring(response.content)\n",
        "tree = ET.ElementTree(root)\n",
        "tree.write('response.xml', encoding='utf-8')"
      ],
      "metadata": {
        "id": "WWlunC29uOjQ"
      },
      "execution_count": 121,
      "outputs": []
    },
    {
      "cell_type": "code",
      "source": [
        "# xml로 저장된 파일을 csv로 바꿀 때\n",
        "import csv\n",
        "\n",
        "# CSV 파일 열기\n",
        "with open('response.csv', 'w', newline='') as csv_file:\n",
        "  writer = csv.writer(csv_file)\n",
        "\n",
        "  header=[]\n",
        "  # root는 xml.etree.ElementTree.Element 타입\n",
        "  root_h=root[1][3]\n",
        "  for x in root_h[0]:\n",
        "    header.append(x.tag)\n",
        "  writer.writerow(header)\n",
        "\n",
        "  for item in root_h:\n",
        "    row = []\n",
        "    for child in item:\n",
        "        row.append(child.text)\n",
        "    writer.writerow(row)"
      ],
      "metadata": {
        "id": "P2yCevTJfPlF"
      },
      "execution_count": 123,
      "outputs": []
    },
    {
      "cell_type": "code",
      "source": [
        "# json 형태로 불러오고 json으로 저장할 때\n",
        "import json\n",
        "\n",
        "file_path='response.json'\n",
        "with open(file_path,'w', encoding='utf-8') as f:\n",
        "  json.dump(response.json(),f,indent=2)"
      ],
      "metadata": {
        "id": "V8Hndw68cLPg"
      },
      "execution_count": 118,
      "outputs": []
    },
    {
      "cell_type": "code",
      "source": [
        "import csv\n",
        "\n",
        "data = response.json()\n",
        "\n",
        "# CSV 파일 열기\n",
        "with open('response.csv', 'w', newline='') as csv_file:\n",
        "  writer = csv.writer(csv_file)\n",
        "\n",
        "  # 헤더 쓰기\n",
        "  # data는 dict type\n",
        "  data_h = data['response']['body']['items']['item']\n",
        "  writer.writerow(data_h[0].keys())\n",
        "\n",
        "  # 데이터 쓰기\n",
        "  for item in data_h:\n",
        "      writer.writerow(item.values())"
      ],
      "metadata": {
        "id": "bsPpvbSAp0M4"
      },
      "execution_count": 119,
      "outputs": []
    }
  ]
}